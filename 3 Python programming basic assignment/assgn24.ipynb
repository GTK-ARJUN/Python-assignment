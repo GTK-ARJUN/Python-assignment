{
 "cells": [
  {
   "cell_type": "markdown",
   "id": "c94cffd9",
   "metadata": {},
   "source": [
    "https://drive.google.com/file/d/1NumFmW9vc1lLdcq1nOesKUj73moX6CoM/view"
   ]
  },
  {
   "cell_type": "markdown",
   "id": "39d3eae7",
   "metadata": {},
   "source": [
    "- Create a function that takes an integer and returns a list from 1 to the given number, where:\n",
    "1. If the number can be divided evenly by 4, amplify it by 10 (i.e. return 10 times the number).\n",
    "2. If the number cannot be divided evenly by 4, simply return the number."
   ]
  },
  {
   "cell_type": "code",
   "execution_count": 1,
   "id": "5ba33503",
   "metadata": {},
   "outputs": [
    {
     "name": "stdout",
     "output_type": "stream",
     "text": [
      "[1, 2, 3, 40]\n",
      "[1, 2, 3]\n",
      "[1, 2, 3, 40, 5, 6, 7, 80, 9, 10, 11, 120, 13, 14, 15, 160, 17, 18, 19, 200, 21, 22, 23, 240, 25]\n"
     ]
    }
   ],
   "source": [
    "def amplify(num1):\n",
    "    list1=[]\n",
    "    for i in range(1,num1+1):\n",
    "        if i%4==0:\n",
    "            list1.append(i*10)\n",
    "        else:\n",
    "            list1.append(i)\n",
    "    print(list1)\n",
    "        \n",
    "        \n",
    "amplify(4) #➞ [1, 2, 3, 40]\n",
    "amplify(3) #➞ [1, 2, 3]\n",
    "amplify(25) #➞ [1, 2, 3, 40, 5, 6, 7, 80, 9, 10, 11, 120, 13, 14, 15, 160, 17, 18, 19, 200, 21, 22, 23, 240, 25]"
   ]
  },
  {
   "cell_type": "markdown",
   "id": "167aea3e",
   "metadata": {},
   "source": [
    "- Create a function that takes a list of numbers and return the number that&#39;s unique."
   ]
  },
  {
   "cell_type": "code",
   "execution_count": 2,
   "id": "7bb22f43",
   "metadata": {},
   "outputs": [
    {
     "name": "stdout",
     "output_type": "stream",
     "text": [
      "7\n",
      "0.77\n",
      "0\n"
     ]
    }
   ],
   "source": [
    "def unique(list2):\n",
    "    for i in list2:\n",
    "        count=0\n",
    "        for j in list2:\n",
    "            if i==j:\n",
    "                num_u=i\n",
    "                count=count+1\n",
    "        if count==1:\n",
    "            print(num_u)\n",
    "            \n",
    "unique([3, 3, 3, 7, 3, 3]) #➞ 7\n",
    "unique([0, 0, 0.77, 0, 0]) #➞ 0.77\n",
    "unique([0, 1, 1, 1, 1, 1, 1, 1]) #➞ 0"
   ]
  },
  {
   "cell_type": "markdown",
   "id": "01337ca2",
   "metadata": {},
   "source": [
    "- Your task is to create a Circle constructor that creates a circle with a radius provided by an argument. The circles constructed must have two getters getArea() (PIr^2) and getPerimeter() (2PI*r) which give both respective areas and perimeter (circumference)."
   ]
  },
  {
   "cell_type": "code",
   "execution_count": 3,
   "id": "d70acdd0",
   "metadata": {},
   "outputs": [
    {
     "name": "stdout",
     "output_type": "stream",
     "text": [
      "380.2857142857143\n",
      "27.90857142857143\n"
     ]
    }
   ],
   "source": [
    "class Circle:\n",
    "    def __init__(self, rad):\n",
    "        self.rad=rad\n",
    "        \n",
    "    def getArea(self):\n",
    "        print((22/7)*self.rad**2)\n",
    "        \n",
    "    def getPerimeter(self):\n",
    "        print(2*(22/7)*self.rad)\n",
    "        \n",
    "circy = Circle(11)\n",
    "circy.getArea()        #- Should return 380.132711084365\n",
    "circy = Circle(4.44)\n",
    "circy.getPerimeter()   #- Should return 27.897342763877365"
   ]
  },
  {
   "cell_type": "markdown",
   "id": "452cc0c5",
   "metadata": {},
   "source": [
    "- Create a function that takes a list of strings and return a list, sorted from shortest to longest."
   ]
  },
  {
   "cell_type": "code",
   "execution_count": 4,
   "id": "250034dd",
   "metadata": {},
   "outputs": [
    {
     "name": "stdout",
     "output_type": "stream",
     "text": [
      "['Apple', 'Google', 'Microsoft']\n",
      "['Raphael', 'Leonardo', 'Donatello', 'Michelangelo']\n",
      "['Jung', 'Turing', 'Einstein']\n"
     ]
    }
   ],
   "source": [
    "def sort_by_length (list1):\n",
    "    for j in range(len(list1)-1):\n",
    "        for i in range(len(list1)-1):\n",
    "            if len(list1[i])>len(list1[i+1]):\n",
    "                list1[i],list1[i+1]=list1[i+1],list1[i]\n",
    "    print(list1)\n",
    "\n",
    "sort_by_length([\"Google\", \"Apple\", \"Microsoft\"]) #➞ [\"Apple\", \"Google\", \"Microsoft\"]\n",
    "sort_by_length([\"Leonardo\", \"Michelangelo\", \"Raphael\", \"Donatello\"]) #➞ [\"Raphael\", \"Leonardo\", \"Donatello\", \"Michelangelo\"]\n",
    "sort_by_length([\"Turing\", \"Einstein\", \"Jung\"]) #➞ [\"Jung\", \"Turing\", \"Einstein\"]"
   ]
  },
  {
   "cell_type": "markdown",
   "id": "51dca07d",
   "metadata": {},
   "source": [
    "- Create a function that validates whether three given integers form a Pythagorean triplet. The sum of the squares of the two smallest integers must equal the square of the largest number to be validated.\n"
   ]
  },
  {
   "cell_type": "code",
   "execution_count": 5,
   "id": "ba43850c",
   "metadata": {},
   "outputs": [
    {
     "name": "stdout",
     "output_type": "stream",
     "text": [
      "[3, 4, 5]\n",
      "True\n",
      "[5, 12, 13]\n",
      "True\n",
      "[1, 2, 3]\n",
      "False\n"
     ]
    }
   ],
   "source": [
    "def is_triplet(a,b,c):\n",
    "    sides=[a,b,c]\n",
    "    sides.sort()\n",
    "    print(sides)\n",
    "    print(f\"{(sides[0]**2)+(sides[1]**2)==(sides[2]**2)}\")\n",
    "\n",
    "is_triplet(3, 4, 5) # ➞ True # 3² + 4² = 25 # 5² = 25\n",
    "is_triplet(13, 5, 12) #➞ True # 5² + 12² = 169 # 13² = 169\n",
    "is_triplet(1, 2, 3) #➞ False # 1² + 2² = 5  # 3² = 9"
   ]
  },
  {
   "cell_type": "code",
   "execution_count": null,
   "id": "9201d534",
   "metadata": {},
   "outputs": [],
   "source": [
    "\n"
   ]
  }
 ],
 "metadata": {
  "kernelspec": {
   "display_name": "Python 3 (ipykernel)",
   "language": "python",
   "name": "python3"
  },
  "language_info": {
   "codemirror_mode": {
    "name": "ipython",
    "version": 3
   },
   "file_extension": ".py",
   "mimetype": "text/x-python",
   "name": "python",
   "nbconvert_exporter": "python",
   "pygments_lexer": "ipython3",
   "version": "3.8.12"
  }
 },
 "nbformat": 4,
 "nbformat_minor": 5
}
