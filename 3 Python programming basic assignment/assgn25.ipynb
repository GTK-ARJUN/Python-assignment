{
 "cells": [
  {
   "cell_type": "markdown",
   "id": "ce7d87dc",
   "metadata": {},
   "source": [
    "https://drive.google.com/file/d/1oEMovW2vkwNVrJt5O43-WYCQWKKiK1xA/view"
   ]
  },
  {
   "cell_type": "markdown",
   "id": "8decf26c",
   "metadata": {},
   "source": [
    "- Create a function that takes three integer arguments (a, b, c) and returns the amount of integers which are of equal value."
   ]
  },
  {
   "cell_type": "code",
   "execution_count": 1,
   "id": "5513732b",
   "metadata": {},
   "outputs": [
    {
     "name": "stdout",
     "output_type": "stream",
     "text": [
      "2\n",
      "3\n",
      "0\n"
     ]
    }
   ],
   "source": [
    "def equal(a,b,c):\n",
    "    list1=[a,b,c]\n",
    "    for i in list1:\n",
    "        if list1.count(i)>1:\n",
    "            print(list1.count(i))\n",
    "            break\n",
    "        else:\n",
    "            print(0)\n",
    "            break\n",
    "    \n",
    "equal(3, 4, 3) #➞ 2\n",
    "equal(1, 1, 1) #➞ 3\n",
    "equal(3, 4, 1) #➞ 0"
   ]
  },
  {
   "cell_type": "markdown",
   "id": "db99f0db",
   "metadata": {},
   "source": [
    "- Write a function that converts a dictionary into a list of keys-values tuples."
   ]
  },
  {
   "cell_type": "code",
   "execution_count": 2,
   "id": "7e1b2e01",
   "metadata": {},
   "outputs": [
    {
     "name": "stdout",
     "output_type": "stream",
     "text": [
      "[('B', 2), ('C', 3), ('D', 1)]\n",
      "[('dislikes', 3), ('followers', 10), ('likes', 2)]\n"
     ]
    }
   ],
   "source": [
    "def dict_to_list(dic_lis):\n",
    "    print(sorted(sorted(dic_lis.items())))\n",
    "\n",
    "dict_to_list({\"D\": 1,\"B\": 2,\"C\": 3}) #➞ [(\"B\", 2), (\"C\", 3), (\"D\", 1)]\n",
    "dict_to_list({\"likes\": 2,\"dislikes\": 3,\"followers\": 10}) #➞ [(\"dislikes\", 3), (\"followers\", 10), (\"likes\", 2)]"
   ]
  },
  {
   "cell_type": "markdown",
   "id": "ca17da09",
   "metadata": {},
   "source": [
    "- Write a function that creates a dictionary with each (key, value) pair being the (lower case,upper case) versions of a letter, respectively."
   ]
  },
  {
   "cell_type": "code",
   "execution_count": 3,
   "id": "cea8fd19",
   "metadata": {},
   "outputs": [
    {
     "name": "stdout",
     "output_type": "stream",
     "text": [
      "{'p': 'P', 's': 'S'}\n",
      "{'a': 'A', 'b': 'B', 'c': 'C'}\n",
      "{'a': 'A', 'v': 'V', 'y': 'Y', 'z': 'Z'}\n"
     ]
    }
   ],
   "source": [
    "def mapping(map_lis):\n",
    "    map_dic={}\n",
    "    for i in map_lis:\n",
    "        map_dic[i]=i.upper()\n",
    "    print(map_dic)\n",
    "    \n",
    "mapping([\"p\", \"s\"]) #➞ { \"p\": \"P\", \"s\": \"S\" }\n",
    "mapping([\"a\", \"b\", \"c\"]) #➞ { \"a\": \"A\", \"b\": \"B\", \"c\": \"C\" }\n",
    "mapping([\"a\", \"v\", \"y\", \"z\"]) #➞ { \"a\": \"A\", \"v\": \"V\", \"y\": \"Y\", \"z\": \"Z\" }"
   ]
  },
  {
   "cell_type": "markdown",
   "id": "a300b0e8",
   "metadata": {},
   "source": [
    "- Write a function, that replaces all vowels in a string with a specified vowel.\n"
   ]
  },
  {
   "cell_type": "code",
   "execution_count": 4,
   "id": "b916e70d",
   "metadata": {},
   "outputs": [
    {
     "name": "stdout",
     "output_type": "stream",
     "text": [
      "upplus und bununus\n",
      "chooso cossorolo\n",
      "steffed jelepene peppers\n"
     ]
    }
   ],
   "source": [
    "vowel=['a','e','i','o','u']\n",
    "def vow_replace (para, r_vow):\n",
    "    for i in vowel:\n",
    "        para=para.replace(i,r_vow)\n",
    "    print(para)\n",
    "    \n",
    "vow_replace(\"apples and bananas\", \"u\") #➞ \"upplus und bununus\"\n",
    "vow_replace(\"cheese casserole\", \"o\") #➞ \"chooso cossorolo\"\n",
    "vow_replace(\"stuffed jalapeno poppers\", \"e\") #➞ \"steffed jelepene peppers\""
   ]
  },
  {
   "cell_type": "markdown",
   "id": "ced68fd0",
   "metadata": {},
   "source": [
    "- Create a function that takes a string as input and capitalizes a letter if its ASCII code is even and returns its lower case version if its ASCII code is odd."
   ]
  },
  {
   "cell_type": "code",
   "execution_count": 5,
   "id": "aa2afb43",
   "metadata": {},
   "outputs": [
    {
     "name": "stdout",
     "output_type": "stream",
     "text": [
      "To Be oR NoT To Be!\n",
      "THe LiTTLe meRmaiD\n",
      "oH wHaT a BeauTiFuL moRNiNg.\n"
     ]
    }
   ],
   "source": [
    "def ascii_capitalize(sent):\n",
    "    sent=[i for i in sent]\n",
    "    sent2=[]\n",
    "    for i in sent:\n",
    "        if ord(i)%2==0:\n",
    "           sent2.append(i.upper())\n",
    "        else:\n",
    "            sent2.append(i.lower())\n",
    "    sent2=\"\".join(sent2)\n",
    "    print(sent2)\n",
    "    \n",
    "    \n",
    "ascii_capitalize(\"to be or not to be!\") #➞ \"To Be oR NoT To Be!\"\n",
    "ascii_capitalize(\"THE LITTLE MERMAID\") #➞ \"THe LiTTLe meRmaiD\"\n",
    "ascii_capitalize(\"Oh what a beautiful morning.\") #➞ \"oH wHaT a BeauTiFuL moRNiNg.\""
   ]
  }
 ],
 "metadata": {
  "kernelspec": {
   "display_name": "Python 3 (ipykernel)",
   "language": "python",
   "name": "python3"
  },
  "language_info": {
   "codemirror_mode": {
    "name": "ipython",
    "version": 3
   },
   "file_extension": ".py",
   "mimetype": "text/x-python",
   "name": "python",
   "nbconvert_exporter": "python",
   "pygments_lexer": "ipython3",
   "version": "3.8.12"
  }
 },
 "nbformat": 4,
 "nbformat_minor": 5
}
