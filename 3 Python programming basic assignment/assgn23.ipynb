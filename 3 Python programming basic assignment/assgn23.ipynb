{
 "cells": [
  {
   "cell_type": "markdown",
   "id": "9d7cfb10",
   "metadata": {},
   "source": [
    "### https://drive.google.com/file/d/1QIJX2tx2o8uPWcA3Fh8hDnfZaHyNWwnD/view"
   ]
  },
  {
   "cell_type": "markdown",
   "id": "d774e4d7",
   "metadata": {},
   "source": [
    "- Create a function that takes a number as an argument and returns True or False depending on whether the number is symmetrical or not. A number is symmetrical when it is the same as its reverse."
   ]
  },
  {
   "cell_type": "code",
   "execution_count": 1,
   "id": "4a84f20e",
   "metadata": {},
   "outputs": [
    {
     "name": "stdout",
     "output_type": "stream",
     "text": [
      "False\n",
      "True\n"
     ]
    }
   ],
   "source": [
    "def is_symmetrical(num1):\n",
    "    num2=[i for i in str(num1)]\n",
    "    num2=num2[::-1]\n",
    "    num2=int(\"\".join(num2))\n",
    "    print(num1==num2)\n",
    "\n",
    "is_symmetrical(1234)\n",
    "is_symmetrical(12321)"
   ]
  },
  {
   "cell_type": "markdown",
   "id": "9286db1b",
   "metadata": {},
   "source": [
    "- Given a string of numbers separated by a comma and space, return the product of the numbers."
   ]
  },
  {
   "cell_type": "code",
   "execution_count": 2,
   "id": "4be1d32f",
   "metadata": {},
   "outputs": [
    {
     "name": "stdout",
     "output_type": "stream",
     "text": [
      "6\n",
      "24\n",
      "0\n",
      "-20\n"
     ]
    }
   ],
   "source": [
    "def multiply_nums(list1):\n",
    "    list1=list1.split(\",\")\n",
    "    mul1=1\n",
    "    for i in list1:\n",
    "        mul1=mul1*int(i)\n",
    "    print(mul1)\n",
    "\n",
    "multiply_nums(\"2, 3\")\n",
    "multiply_nums(\"1, 2, 3, 4\")\n",
    "multiply_nums(\"54, 75, 453, 0\") \n",
    "multiply_nums(\"10, -2\")"
   ]
  },
  {
   "cell_type": "markdown",
   "id": "cd4046f8",
   "metadata": {},
   "source": [
    "- Create a function that squares every digit of a number."
   ]
  },
  {
   "cell_type": "code",
   "execution_count": 3,
   "id": "0e85280e",
   "metadata": {},
   "outputs": [
    {
     "name": "stdout",
     "output_type": "stream",
     "text": [
      "811181\n",
      "416649\n",
      "9414\n"
     ]
    }
   ],
   "source": [
    "def square_digits(num):\n",
    "    list2=[]\n",
    "    while num>0:\n",
    "        sqr=num%10        \n",
    "        num=num//10\n",
    "        list2.append(str(sqr**2))\n",
    "    \n",
    "    list2=list2[::-1]\n",
    "    list2=int(\"\".join(list2))\n",
    "    print(list2)\n",
    "        \n",
    "square_digits(9119) #➞ 811181\n",
    "square_digits(2483) #➞ 416649\n",
    "square_digits(3212) #➞ 9414"
   ]
  },
  {
   "cell_type": "markdown",
   "id": "99ba8429",
   "metadata": {},
   "source": [
    "- Create a function that sorts a list and removes all duplicate items from it."
   ]
  },
  {
   "cell_type": "code",
   "execution_count": 4,
   "id": "b270cc65",
   "metadata": {},
   "outputs": [
    {
     "name": "stdout",
     "output_type": "stream",
     "text": [
      "[1, 3, 5]\n",
      "[4]\n",
      "[5, 7, 8, 9, 10, 15]\n",
      "[3, 2, 1]\n"
     ]
    }
   ],
   "source": [
    "def setify(str_3):\n",
    "    testl=[]\n",
    "    for i in str_3:\n",
    "        if i not in testl:\n",
    "            testl.append(i)\n",
    "    print(testl)\n",
    "    \n",
    "setify([1, 3, 3, 5, 5]) #➞ [1, 3, 5]\n",
    "setify([4, 4, 4, 4]) #➞ [4]\n",
    "setify([5, 7, 8, 9, 10, 15]) #➞ [5, 7, 8, 9, 10, 15]\n",
    "setify([3, 3, 3, 2, 1]) #➞ [1, 2, 3]    "
   ]
  },
  {
   "cell_type": "markdown",
   "id": "3a539652",
   "metadata": {},
   "source": [
    "- Create a function that returns the mean of all digits."
   ]
  },
  {
   "cell_type": "code",
   "execution_count": 5,
   "id": "90f23cd0",
   "metadata": {},
   "outputs": [
    {
     "name": "stdout",
     "output_type": "stream",
     "text": [
      "3\n",
      "3\n",
      "6\n"
     ]
    }
   ],
   "source": [
    "def mean(num1):\n",
    "    sum1=0\n",
    "    flag=0\n",
    "    while num1>0:\n",
    "        sum1=(sum1+num1%10)\n",
    "        num1=num1//10\n",
    "        flag+=1\n",
    "    print(int(sum1/flag))\n",
    "\n",
    "mean(42) #➞ 3\n",
    "mean(12345)# ➞ 3\n",
    "mean(666) #➞ 6"
   ]
  }
 ],
 "metadata": {
  "kernelspec": {
   "display_name": "Python 3 (ipykernel)",
   "language": "python",
   "name": "python3"
  },
  "language_info": {
   "codemirror_mode": {
    "name": "ipython",
    "version": 3
   },
   "file_extension": ".py",
   "mimetype": "text/x-python",
   "name": "python",
   "nbconvert_exporter": "python",
   "pygments_lexer": "ipython3",
   "version": "3.8.12"
  }
 },
 "nbformat": 4,
 "nbformat_minor": 5
}
