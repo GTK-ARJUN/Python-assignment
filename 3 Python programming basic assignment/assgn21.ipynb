{
 "cells": [
  {
   "cell_type": "markdown",
   "id": "97cf5efe",
   "metadata": {},
   "source": [
    "https://drive.google.com/file/d/1RcliQMxNn91GKXPYjLOc0XEntXzfFM4T/view"
   ]
  },
  {
   "cell_type": "markdown",
   "id": "220b1acc",
   "metadata": {},
   "source": [
    "- Write a function that takes a list and a number as arguments. Add the number to the end of the list, then remove the first element of the list. The function should then return the updated list."
   ]
  },
  {
   "cell_type": "code",
   "execution_count": 1,
   "id": "020e59e3",
   "metadata": {},
   "outputs": [
    {
     "name": "stdout",
     "output_type": "stream",
     "text": [
      "[2, 3, 4, 4]\n",
      "[5, 6, 7, 7, 4]\n",
      "No list has been selected\n"
     ]
    }
   ],
   "source": [
    "def sor_mer(lis1, num):\n",
    "    if len(lis1)==0:\n",
    "        return \"No list has been selected\"\n",
    "    else:\n",
    "        lis1.pop(0)\n",
    "        lis1.append(num)\n",
    "        return lis1\n",
    "    \n",
    "list1=[1,2,3,4]\n",
    "list2=[4,5,6,7,7]\n",
    "listb=[]\n",
    "\n",
    "test=sor_mer(list1,4)\n",
    "print(test)\n",
    "\n",
    "test=sor_mer(list2,4)\n",
    "print(test)\n",
    "\n",
    "test=sor_mer(listb,4)\n",
    "print(test)"
   ]
  },
  {
   "cell_type": "markdown",
   "id": "684c9025",
   "metadata": {},
   "source": [
    "- Create the function that takes a list of dictionaries and returns the sum of people&#39;s budgets."
   ]
  },
  {
   "cell_type": "code",
   "execution_count": 2,
   "id": "42ba3449",
   "metadata": {},
   "outputs": [
    {
     "data": {
      "text/plain": [
       "65700"
      ]
     },
     "execution_count": 2,
     "metadata": {},
     "output_type": "execute_result"
    }
   ],
   "source": [
    "dic_lis=[{ \"name\": \"John\", \"age\": 21, \"budget\": 23000 },\n",
    "         { \"name\": \"Steve\", \"age\": 32, \"budget\": 40000 },\n",
    "         { \"name\": \"Martin\", \"age\": 16, \"budget\": 2700 }]\n",
    "\n",
    "def budget_cal(dic_list):\n",
    "    budget=0\n",
    "    for i in dic_list:\n",
    "        budget+=i['budget']\n",
    "        \n",
    "    return budget\n",
    "\n",
    "budget_cal(dic_lis)"
   ]
  },
  {
   "cell_type": "markdown",
   "id": "781b747e",
   "metadata": {},
   "source": [
    "- 3  Create a function that takes a string and returns a string with its letters in alphabetical order."
   ]
  },
  {
   "cell_type": "code",
   "execution_count": 3,
   "id": "df19c356",
   "metadata": {},
   "outputs": [
    {
     "name": "stdout",
     "output_type": "stream",
     "text": [
      "ehllo\n",
      "acehkr\n"
     ]
    }
   ],
   "source": [
    "def alphabet_soup(str1):\n",
    "    str1=[i for i in str1]\n",
    "    str1.sort()\n",
    "    str1=\"\".join(str1)\n",
    "    print(str1)\n",
    "\n",
    "alphabet_soup(\"hello\")\n",
    "alphabet_soup('hacker')    "
   ]
  },
  {
   "cell_type": "markdown",
   "id": "e2794642",
   "metadata": {},
   "source": [
    "- Suppose that you invest $10,000 for 10 years at an interest rate of 6% compounded monthly.\n",
    "- What will be the value of your investment at the end of the 10 year period?\n",
    "- Create a function that accepts the principal p, the term in years t, the interest rate r, and the number of compounding periods per year n. The function returns the value at the end of termrounded to the nearest cent.\n",
    "- For the example above:\n",
    "- compound_interest(10000, 10, 0.06, 12) ➞ 18193.97\n",
    "- Note that the interest rate is given as a decimal and n=12 because with monthly compounding there are 12 periods per year. Compounding can also be done annually, quarterly, weekly, or daily."
   ]
  },
  {
   "cell_type": "code",
   "execution_count": 4,
   "id": "650ce5cb",
   "metadata": {},
   "outputs": [
    {
     "name": "stdout",
     "output_type": "stream",
     "text": [
      "18193.97\n"
     ]
    }
   ],
   "source": [
    "def comp_int(p,t, r,n):\n",
    "    rate=p*(1+(r/n))**(t*n)\n",
    "    rate=round(rate,2)\n",
    "    print(rate)\n",
    "\n",
    "comp_int(10000,10,0.06,12)"
   ]
  },
  {
   "cell_type": "markdown",
   "id": "ccaeb1c5",
   "metadata": {},
   "source": [
    "- Write a function that takes a list of elements and returns only the integers."
   ]
  },
  {
   "cell_type": "code",
   "execution_count": 5,
   "id": "04fed1f7",
   "metadata": {},
   "outputs": [
    {
     "name": "stdout",
     "output_type": "stream",
     "text": [
      "[9, 2, 16]\n",
      "[81, 123]\n",
      "[10, 56, 20, 3]\n",
      "[1]\n"
     ]
    }
   ],
   "source": [
    "def return_only_integer(list1):\n",
    "    list1=[i for i in list1 if type(i)==int]\n",
    "    print(list1)\n",
    "\n",
    "return_only_integer([9, 2, \"space\", \"car\", \"lion\", 16])\n",
    "return_only_integer([\"hello\", 81, \"basketball\", 123, \"fox\"])\n",
    "return_only_integer([10, \"121\", 56, 20, \"car\", 3, \"lion\"])\n",
    "return_only_integer([\"String\", True, 3.3, 1])"
   ]
  }
 ],
 "metadata": {
  "kernelspec": {
   "display_name": "Python 3 (ipykernel)",
   "language": "python",
   "name": "python3"
  },
  "language_info": {
   "codemirror_mode": {
    "name": "ipython",
    "version": 3
   },
   "file_extension": ".py",
   "mimetype": "text/x-python",
   "name": "python",
   "nbconvert_exporter": "python",
   "pygments_lexer": "ipython3",
   "version": "3.8.12"
  }
 },
 "nbformat": 4,
 "nbformat_minor": 5
}
