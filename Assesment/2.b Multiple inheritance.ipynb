{
 "cells": [
  {
   "cell_type": "code",
   "execution_count": 1,
   "id": "bba5d5af",
   "metadata": {},
   "outputs": [],
   "source": [
    "class add:\n",
    "    def __init__(self, a,b):\n",
    "        self.a=a\n",
    "        self.b=b        \n",
    "    def f_add(self):\n",
    "        return self.a+self.b"
   ]
  },
  {
   "cell_type": "code",
   "execution_count": 2,
   "id": "7134fccf",
   "metadata": {},
   "outputs": [],
   "source": [
    "class mul:\n",
    "    def __init__(self, a,b):\n",
    "        self.a=a\n",
    "        self.b=b\n",
    "    def f_mul(self):\n",
    "        return self.a*self.b"
   ]
  },
  {
   "cell_type": "code",
   "execution_count": 3,
   "id": "56a7fecc",
   "metadata": {},
   "outputs": [],
   "source": [
    "# inheriting mul class\n",
    "class div(mul):\n",
    "    def __init__(self, a,b):\n",
    "        self.a=a\n",
    "        self.b=b\n",
    "    def f_div(self):\n",
    "        return self.a/self.b"
   ]
  },
  {
   "cell_type": "code",
   "execution_count": 4,
   "id": "db43513f",
   "metadata": {},
   "outputs": [],
   "source": [
    "# inheriting add class as well as div class(inherited mul class).\n",
    "class calc(add,div):\n",
    "    def __init__(self, a,b):\n",
    "        self.a=a\n",
    "        self.b=b\n",
    "    \n",
    "    def f_sub(self):\n",
    "        return self.a-self.b"
   ]
  },
  {
   "cell_type": "code",
   "execution_count": 5,
   "id": "e25a881d",
   "metadata": {},
   "outputs": [
    {
     "name": "stdout",
     "output_type": "stream",
     "text": [
      "calc(4,4).f_mul() = 16\n",
      "calc(4,4).f_add() = 8\n",
      "calc(4,4).f_sub() = 0\n",
      "calc(4,4).f_div() = 1.0\n"
     ]
    }
   ],
   "source": [
    "print(f\"{calc(4,4).f_mul() = }\")\n",
    "\n",
    "print(f\"{calc(4,4).f_add() = }\")\n",
    "\n",
    "print(f\"{calc(4,4).f_sub() = }\")\n",
    "\n",
    "print(f\"{calc(4,4).f_div() = }\")"
   ]
  }
 ],
 "metadata": {
  "kernelspec": {
   "display_name": "Python 3 (ipykernel)",
   "language": "python",
   "name": "python3"
  },
  "language_info": {
   "codemirror_mode": {
    "name": "ipython",
    "version": 3
   },
   "file_extension": ".py",
   "mimetype": "text/x-python",
   "name": "python",
   "nbconvert_exporter": "python",
   "pygments_lexer": "ipython3",
   "version": "3.8.12"
  }
 },
 "nbformat": 4,
 "nbformat_minor": 5
}
